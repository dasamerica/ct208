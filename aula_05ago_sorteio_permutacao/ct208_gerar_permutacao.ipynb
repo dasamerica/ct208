{
  "nbformat": 4,
  "nbformat_minor": 0,
  "metadata": {
    "colab": {
      "name": "ct208_gerar_permutacao.ipynb",
      "provenance": []
    },
    "kernelspec": {
      "name": "python3",
      "display_name": "Python 3"
    }
  },
  "cells": [
    {
      "cell_type": "code",
      "metadata": {
        "id": "TObpJrGnW3zb",
        "colab_type": "code",
        "colab": {
          "base_uri": "https://localhost:8080/",
          "height": 741
        },
        "outputId": "fd862f7d-af3c-4444-a2cc-181fb1630dbc"
      },
      "source": [
        "#@title\n",
        "# Daniela America da Silva\n",
        "# Gerar permutação\n",
        "# Exemplos de implementação \n",
        "# Permuta 1 Prof. Mirisola \n",
        "# Permuta 2 Exemplo otimizado utilizando swap entre os elementos\n",
        "# https://www.codeproject.com/Tips/1275693/Recursive-Permutations-in-Python\n",
        "\n",
        "import random\n",
        "import matplotlib.pyplot as plt\n",
        "import time, datetime\n",
        "import math\n",
        "import statistics\n",
        "\n",
        "#Exemplo Mirisola\n",
        "def permuta1(N):\n",
        "  M = math.factorial(N)\n",
        "  for s in range(1,M+1,1):\n",
        "    P = [] + [0] * N\n",
        "    P.append(0)\n",
        "    Used = [] + [0] * N\n",
        "    Used.append(0)\n",
        "    for i in range(1,N+1,1):\n",
        "      counter=0\n",
        "      while True:\n",
        "        x = random.randrange(1, N+1)\n",
        "        times.append(time.time() - t0)\n",
        "        counter+=1\n",
        "        if (Used[x] == 0):\n",
        "          break\n",
        "      P[i]=x\n",
        "      Used[x] = 1\n",
        "      print(counter)\n",
        "      counters.append(counter)\n",
        "    P.remove(0)\n",
        "    print(P)\n",
        "\n",
        "\n",
        "T = 3\n",
        "times=[]\n",
        "counters=[]\n",
        "t0=time.time()\n",
        "\n",
        "print ('*** Permuta 1 - Exemplo Prof. Mirisola ***')\n",
        "permuta1(T)\n",
        "print ('Média de sorteios:', statistics.mean(counters))\n",
        "plt.plot(counters)\n",
        "\n",
        "\n",
        "#Exemplo Recursivo utilizando Swap entre os elementos\n",
        "def permuta2(s):\n",
        "  out = []\n",
        "  if len(s) == 1:\n",
        "    return s\n",
        "  else:\n",
        "    for i,let in enumerate(s):\n",
        "      for perm in permuta2(s[:i] + s[i+1:]):\n",
        "        out += [let + perm]\n",
        "  return out\n",
        "\n",
        "print ('*** Permuta 2 - Exemplo Otimizado Recursivo ***')\n",
        "T2 = [0] * T\n",
        "for i in range(1,N+1,1):\n",
        "  T2[i-1] = str(i)\n",
        "l=permuta2(T2)\n",
        "print(l)\n"
      ],
      "execution_count": 92,
      "outputs": [
        {
          "output_type": "stream",
          "text": [
            "*** Permuta 1 - Exemplo Prof. Mirisola ***\n",
            "1\n",
            "1\n",
            "1\n",
            "[3, 2, 1]\n",
            "1\n",
            "1\n",
            "1\n",
            "[1, 2, 3]\n",
            "1\n",
            "1\n",
            "2\n",
            "[2, 3, 1]\n",
            "1\n",
            "4\n",
            "5\n",
            "[3, 2, 1]\n",
            "1\n",
            "2\n",
            "9\n",
            "[1, 2, 3]\n",
            "1\n",
            "3\n",
            "1\n",
            "[1, 3, 2]\n",
            "Média de sorteios: 2.0555555555555554\n",
            "*** Permuta 2 - Exemplo Otimizado Recursivo ***\n",
            "['123', '132', '213', '231', '312', '321']\n"
          ],
          "name": "stdout"
        },
        {
          "output_type": "display_data",
          "data": {
            "image/png": "[encoded data removed]",
            "text/plain": [
              "<Figure size 432x288 with 1 Axes>"
            ]
          },
          "metadata": {
            "tags": [],
            "needs_background": "light"
          }
        }
      ]
    }
  ]
}